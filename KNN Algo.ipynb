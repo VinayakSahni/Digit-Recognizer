{
 "cells": [
  {
   "cell_type": "code",
   "execution_count": null,
   "id": "69982a64",
   "metadata": {},
   "outputs": [],
   "source": [
    "def dist(x1,x2):\n",
    "    return np.sqrt(sum(x1-x2)**2)\n",
    "\n",
    "def knn(x,y,querypoint,k=5):\n",
    "    #pick nearest k nieghbours\n",
    "    \n",
    "    vals=[]\n",
    "    m=x.shape[0]\n",
    "    #for every point in x\n",
    "    for i in range(m):\n",
    "        #compute distance\n",
    "            d=dist(querypoint,x[i])\n",
    "            vals.append((d,y[i]))\n",
    "    \n",
    "    \n",
    "    #sort the array and find k nearest points\n",
    "    vals=sorted(vals)\n",
    "    vals=vals[:k]\n",
    "    #majority vote\n",
    "    vals=np.array(vals)\n",
    "    \n",
    "    #returns count of each class of vals \n",
    "    newvals=np.unique(vals[:,1], return_counts=True)\n",
    "    print(newvals)\n",
    "    \n",
    "    # index of the maximum count\n",
    "    index=newvals[1].argmax()\n",
    "    #map this index with data\n",
    "    pred=newvals[0][index]\n",
    "    \n",
    "    return pred"
   ]
  }
 ],
 "metadata": {
  "kernelspec": {
   "display_name": "Python 3",
   "language": "python",
   "name": "python3"
  },
  "language_info": {
   "codemirror_mode": {
    "name": "ipython",
    "version": 3
   },
   "file_extension": ".py",
   "mimetype": "text/x-python",
   "name": "python",
   "nbconvert_exporter": "python",
   "pygments_lexer": "ipython3",
   "version": "3.8.5"
  }
 },
 "nbformat": 4,
 "nbformat_minor": 5
}
